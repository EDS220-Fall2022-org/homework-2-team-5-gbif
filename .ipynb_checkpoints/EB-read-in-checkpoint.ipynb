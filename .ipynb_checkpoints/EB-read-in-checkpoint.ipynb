{
 "cells": [
  {
   "cell_type": "code",
   "execution_count": null,
   "id": "6fca1ece-04ac-474e-a279-4390bf9dcd5a",
   "metadata": {},
   "outputs": [],
   "source": []
  },
  {
   "cell_type": "code",
   "execution_count": 1,
   "id": "29aa7eca-457a-464c-b794-bf4767694a66",
   "metadata": {},
   "outputs": [],
   "source": [
    "#import necessary packages\n",
    "import pandas as pd\n",
    "import numpy as np\n",
    "import os\n",
    "from urllib.request import urlopen\n",
    "import json\n",
    "import cartopy\n",
    "import cartopy.crs as ccrs\n",
    "import matplotlib.pyplot as plt\n",
    "from scipy import interpolate\n",
    "from scipy.interpolate import griddata\n",
    "import pyepsg"
   ]
  },
  {
   "cell_type": "markdown",
   "id": "0709457c-6990-498f-8d34-9fbac4969bac",
   "metadata": {},
   "source": [
    "Using the GBIF API to download iNaturalist data\n",
    "\n",
    "Jillian: Time range / time series of species\n",
    "\n",
    "Erica: spatial distribution of a species \n",
    "Kiran: Synthesizing iNaturalist data (counts of observations?)\n"
   ]
  },
  {
   "cell_type": "code",
   "execution_count": 1,
   "id": "96f4261c-d861-4e17-a181-fd649cfb3057",
   "metadata": {},
   "outputs": [
    {
     "ename": "ModuleNotFoundError",
     "evalue": "No module named 'pygbif'",
     "output_type": "error",
     "traceback": [
      "\u001b[0;31m---------------------------------------------------------------------------\u001b[0m",
      "\u001b[0;31mModuleNotFoundError\u001b[0m                       Traceback (most recent call last)",
      "Input \u001b[0;32mIn [1]\u001b[0m, in \u001b[0;36m<cell line: 1>\u001b[0;34m()\u001b[0m\n\u001b[0;32m----> 1\u001b[0m \u001b[38;5;28;01mimport\u001b[39;00m \u001b[38;5;21;01mpygbif\u001b[39;00m\n",
      "\u001b[0;31mModuleNotFoundError\u001b[0m: No module named 'pygbif'"
     ]
    }
   ],
   "source": [
    "import pygbif\n",
    "#need to run pip install pygbif in terminal"
   ]
  },
  {
   "cell_type": "code",
   "execution_count": null,
   "id": "35fc2a2b-52cd-47b8-996c-f240be246707",
   "metadata": {},
   "outputs": [],
   "source": []
  },
  {
   "cell_type": "code",
   "execution_count": null,
   "id": "d00f6fc5-432a-4171-86e0-a8c074717372",
   "metadata": {},
   "outputs": [],
   "source": [
    "documentaton"
   ]
  },
  {
   "cell_type": "markdown",
   "id": "f158901e-1e43-4587-bbf2-6ea68fb4173a",
   "metadata": {},
   "source": [
    "doc"
   ]
  },
  {
   "cell_type": "code",
   "execution_count": null,
   "id": "db61808b-bec4-401c-bfdc-228fed97aa1b",
   "metadata": {},
   "outputs": [],
   "source": []
  },
  {
   "cell_type": "markdown",
   "id": "af322634-7c67-47fc-9242-e9c493aea8fc",
   "metadata": {},
   "source": [
    "Using iNaturalist Research - Grade Observations\n",
    "https://www.gbif.org/dataset/50c9509d-22c7-4a22-a47d-8c48425ef4a7\n",
    "\n",
    "Help for using the API: https://www.gbif.org/developer/summary\n",
    "\n"
   ]
  },
  {
   "cell_type": "code",
   "execution_count": 2,
   "id": "9a3c240b-3526-4712-a628-f3bb0acf457a",
   "metadata": {},
   "outputs": [],
   "source": [
    "# Read in your token\n",
    "#iucn_token=\"9bb4facb6d23f48efbf424bb05c0c1ef1cf6f468393bc745d42179ac4aca5fee\"\n",
    "\n",
    "# Root URL for GBIF API\n",
    "gbif_url=\" https://api.gbif.org/v1/\"\n",
    "\n",
    "#don't need a token, just your username and password for your GBIF account"
   ]
  },
  {
   "cell_type": "code",
   "execution_count": null,
   "id": "aa099dd2-1351-4de7-9f76-14da6e2d8602",
   "metadata": {},
   "outputs": [],
   "source": []
  }
 ],
 "metadata": {
  "kernelspec": {
   "display_name": "Anaconda Base",
   "language": "python",
   "name": "base"
  },
  "language_info": {
   "codemirror_mode": {
    "name": "ipython",
    "version": 3
   },
   "file_extension": ".py",
   "mimetype": "text/x-python",
   "name": "python",
   "nbconvert_exporter": "python",
   "pygments_lexer": "ipython3",
   "version": "3.9.12"
  }
 },
 "nbformat": 4,
 "nbformat_minor": 5
}
