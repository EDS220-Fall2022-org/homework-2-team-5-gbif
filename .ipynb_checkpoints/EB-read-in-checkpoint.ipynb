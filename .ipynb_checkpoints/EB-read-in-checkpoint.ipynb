{
 "cells": [
  {
   "cell_type": "code",
   "execution_count": null,
   "id": "6fca1ece-04ac-474e-a279-4390bf9dcd5a",
   "metadata": {},
   "outputs": [],
   "source": []
  },
  {
   "cell_type": "code",
   "execution_count": 1,
   "id": "29aa7eca-457a-464c-b794-bf4767694a66",
   "metadata": {},
   "outputs": [],
   "source": [
    "#import necessary packages\n",
    "import pandas as pd\n",
    "import numpy as np\n",
    "import os\n",
    "from urllib.request import urlopen\n",
    "import json\n",
    "import cartopy\n",
    "import cartopy.crs as ccrs\n",
    "import matplotlib.pyplot as plt\n",
    "from scipy import interpolate\n",
    "from scipy.interpolate import griddata\n",
    "import pyepsg"
   ]
  },
  {
   "cell_type": "markdown",
   "id": "0709457c-6990-498f-8d34-9fbac4969bac",
   "metadata": {},
   "source": [
    "Using the GBIF API to download iNaturalist data\n",
    "\n",
    "Jillian: Time range / time series of species\n",
    "\n",
    "Erica: spatial distribution of a species \n",
    "Kiran: Synthesizing iNaturalist data (counts of observations?)\n"
   ]
  },
  {
   "cell_type": "markdown",
   "id": "af322634-7c67-47fc-9242-e9c493aea8fc",
   "metadata": {},
   "source": [
    "Using iNaturalist Research - Grade Observations\n",
    "https://www.gbif.org/dataset/50c9509d-22c7-4a22-a47d-8c48425ef4a7\n",
    "\n",
    "Help for using the API: https://www.gbif.org/developer/summary\n",
    "\n"
   ]
  },
  {
   "cell_type": "code",
   "execution_count": 2,
   "id": "9a3c240b-3526-4712-a628-f3bb0acf457a",
   "metadata": {},
   "outputs": [],
   "source": [
    "# Read in your token\n",
    "#iucn_token=\"9bb4facb6d23f48efbf424bb05c0c1ef1cf6f468393bc745d42179ac4aca5fee\"\n",
    "\n",
    "# Root URL for GBIF API\n",
    "iucn_url=\" https://api.gbif.org/v1/\"\n",
    "\n",
    "# URL for API endpoint\n",
    "spp_page_url = iucn_url+'/species'"
   ]
  },
  {
   "cell_type": "code",
   "execution_count": null,
   "id": "aa099dd2-1351-4de7-9f76-14da6e2d8602",
   "metadata": {},
   "outputs": [],
   "source": []
  }
 ],
 "metadata": {
  "kernelspec": {
   "display_name": "Python 3 (ipykernel)",
   "language": "python",
   "name": "python3"
  },
  "language_info": {
   "codemirror_mode": {
    "name": "ipython",
    "version": 3
   },
   "file_extension": ".py",
   "mimetype": "text/x-python",
   "name": "python",
   "nbconvert_exporter": "python",
   "pygments_lexer": "ipython3",
   "version": "3.10.5"
  }
 },
 "nbformat": 4,
 "nbformat_minor": 5
}
